{
  "nbformat": 4,
  "nbformat_minor": 0,
  "metadata": {
    "colab": {
      "name": "bike_df complete",
      "provenance": [],
      "collapsed_sections": [],
      "authorship_tag": "ABX9TyMqghP5eUEV0O+EDdoFptNz",
      "include_colab_link": true
    },
    "kernelspec": {
      "name": "python3",
      "display_name": "Python 3"
    },
    "language_info": {
      "name": "python"
    }
  },
  "cells": [
    {
      "cell_type": "markdown",
      "metadata": {
        "id": "view-in-github",
        "colab_type": "text"
      },
      "source": [
        "<a href=\"https://colab.research.google.com/github/kiera1233/coding_preparations/blob/main/bike_df_complete.ipynb\" target=\"_parent\"><img src=\"https://colab.research.google.com/assets/colab-badge.svg\" alt=\"Open In Colab\"/></a>"
      ]
    },
    {
      "cell_type": "markdown",
      "source": [
        "Week 13\t23-Mar\t136330\t372783\t\t173%\t273.4416489\t\n",
        "Week 14\t30-Mar\t118784\t280728\t\t136%\t236.3348599\t\n",
        "Week 15\t06-Apr\t132033\t419160\t\t217%\t317.466088\n",
        "Week 8\t17-Feb\t69492\t149876\t\t116%\t215.6737466\n",
        "Week 12\t16-Mar\t125440\t367795\t\t193%\t293.2039222\t"
      ],
      "metadata": {
        "id": "0eZ11KkiVmH2"
      }
    },
    {
      "cell_type": "code",
      "source": [
        "03-Aug\t180605\t239827\t\t33%\t132.7908973\t\n",
        "10-Aug\t191450\t219279\t\t15%\t114.5359102\t\n",
        "17-Aug\t168754\t241007\t\t43%\t142.8155777\t\n",
        "24-Aug\t176624\t273677\t\t55%\t154.9489311\t\n",
        "31-Aug\t184806\t227918\t\t23%\t123.3282469\t\n",
        "07-Sep\t157345\t207670\t\t32%\t131.9838571\t\n",
        "14-Sep\t152527\t207320\t\t36%\t135.9234758\t\n",
        "21-Sep\t141072\t207918\t\t47%\t147.3843144\t\n",
        "28-Sep\t135881\t186004\t\t37%\t136.8874236\t\n",
        "05-Oct\t132239\t182924\t\t38%\t138.3283298\t\n",
        "12-Oct\t110816\t159246\t\t44%\t143.7030754\t\n",
        "19-Oct\t110761\t141404\t\t28%\t127.6658752\t\n",
        "26-Oct\t109795\t147907\t\t35%\t134.7119632\t\n",
        "02-Nov\t109766\t154502\t\t41%\t140.7557896\t\n",
        "09-Nov\t86824\t155805\t\t79%\t179.4492306\t\n",
        "16-Nov\t88122\t97835\t\t11%\t111.0222192\t\n",
        "23-Nov\t72380\t101036\t\t40%\t139.5910473\t\n",
        "30-Nov\t81871\t84123\t\t3%\t102.7506687\t\n",
        "07-Dec\t68364\t92126\t\t35%\t134.7580598\t\n",
        "14-Dec\t58063\t73188\t\t26%\t126.0492913\t\n",
        "21-Dec\t71890\t69962\t\t-3%\t97.31812491\t"
      ],
      "metadata": {
        "id": "wkW1cZXvLYm7"
      },
      "execution_count": null,
      "outputs": []
    },
    {
      "cell_type": "code",
      "source": [
        "Week 12\t16-Mar\t125440\t367795\t\t193%\n",
        "Week 13\t23-Mar\t136330\t372783\t\t173%\n",
        "Week 14\t30-Mar\t118784\t280728\t\t136%\n",
        "Week 15\t06-Apr\t132033\t419160\t\t217%\n",
        "Week 8\t17-Feb\t69492\t149876\t\t116% "
      ],
      "metadata": {
        "id": "kPlSk1O_Lz33"
      },
      "execution_count": null,
      "outputs": []
    }
  ]
}